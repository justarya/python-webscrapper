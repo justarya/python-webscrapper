{
 "cells": [
  {
   "cell_type": "code",
   "execution_count": 45,
   "metadata": {},
   "outputs": [],
   "source": [
    "from flask import Flask, render_template \n",
    "import pandas as pd\n",
    "import requests\n",
    "from bs4 import BeautifulSoup\n",
    "from io import BytesIO\n",
    "import base64\n",
    "import matplotlib.pyplot as plt\n",
    "import dateparser"
   ]
  },
  {
   "cell_type": "code",
   "execution_count": 55,
   "metadata": {},
   "outputs": [
    {
     "output_type": "execute_result",
     "data": {
      "text/plain": "               ask     bid\ndate                      \n2020-05-11  140.51  139.10\n2020-05-12  140.08  138.65\n2020-05-13  139.53  138.10\n2020-05-14  140.55  139.14\n2020-05-15  139.62  138.19",
      "text/html": "<div>\n<style scoped>\n    .dataframe tbody tr th:only-of-type {\n        vertical-align: middle;\n    }\n\n    .dataframe tbody tr th {\n        vertical-align: top;\n    }\n\n    .dataframe thead th {\n        text-align: right;\n    }\n</style>\n<table border=\"1\" class=\"dataframe\">\n  <thead>\n    <tr style=\"text-align: right;\">\n      <th></th>\n      <th>ask</th>\n      <th>bid</th>\n    </tr>\n    <tr>\n      <th>date</th>\n      <th></th>\n      <th></th>\n    </tr>\n  </thead>\n  <tbody>\n    <tr>\n      <th>2020-05-11</th>\n      <td>140.51</td>\n      <td>139.10</td>\n    </tr>\n    <tr>\n      <th>2020-05-12</th>\n      <td>140.08</td>\n      <td>138.65</td>\n    </tr>\n    <tr>\n      <th>2020-05-13</th>\n      <td>139.53</td>\n      <td>138.10</td>\n    </tr>\n    <tr>\n      <th>2020-05-14</th>\n      <td>140.55</td>\n      <td>139.14</td>\n    </tr>\n    <tr>\n      <th>2020-05-15</th>\n      <td>139.62</td>\n      <td>138.19</td>\n    </tr>\n  </tbody>\n</table>\n</div>"
     },
     "metadata": {},
     "execution_count": 55
    }
   ],
   "source": [
    "url = 'http://monexnews.com/kurs-valuta-asing.htm?kurs=JPY'\n",
    "url_get = requests.get(url)\n",
    "soup = BeautifulSoup(url_get.content, 'html.parser')\n",
    "\n",
    "#Find the key to get the information\n",
    "table = soup.find('table') \n",
    "tr = table.find_all('tr') \n",
    "\n",
    "temp = [] #initiating a tuple\n",
    "\n",
    "for i in range(1, len(tr)):\n",
    "    row = table.find_all('tr')[i]\n",
    "    #use the key to take information here\n",
    "    #name_of_object = row.find_all(...)[0].text\n",
    "    date = row.find_all('td')[0].text\n",
    "    ask = row.find_all('td')[1].text\n",
    "    bid = row.find_all('td')[2].text\n",
    "\n",
    "    temp.append((date, ask, bid)) #append the needed information \n",
    "\n",
    "temp = temp[::-1] #remove the header\n",
    "\n",
    "df = pd.DataFrame(temp, columns = ['date', 'ask', 'bid']) #creating the dataframe\n",
    "#data wranggling -  try to change the data type to right data type\n",
    "\n",
    "#end of data wranggling\n",
    "df['date'] = df['date'].apply(lambda x: dateparser.parse(x))\n",
    "df['ask'] = df['ask'].str.replace(',', '.').apply(lambda x: float(x))\n",
    "df['bid'] = df['bid'].str.replace(',', '.').apply(lambda x: float(x))\n",
    "\n",
    "df = df.set_index('date')\n",
    "df"
   ]
  },
  {
   "cell_type": "code",
   "execution_count": 53,
   "metadata": {},
   "outputs": [
    {
     "output_type": "execute_result",
     "data": {
      "text/plain": "date    datetime64[ns]\nask            float64\nbid            float64\ndtype: object"
     },
     "metadata": {},
     "execution_count": 53
    }
   ],
   "source": []
  }
 ],
 "metadata": {
  "kernelspec": {
   "display_name": "da-webscrapping-capstones",
   "language": "python",
   "name": "da-webscrapping-capstones"
  }
 },
 "nbformat": 4,
 "nbformat_minor": 4
}